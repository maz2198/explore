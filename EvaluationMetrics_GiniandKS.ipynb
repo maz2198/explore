{
 "cells": [
  {
   "cell_type": "markdown",
   "metadata": {},
   "source": [
    "\n",
    "<img src=\"img/bannerlogo.jpg\" width=400 height=400 align=\"center\">\n",
    "\n",
    "# Evaluation Metrics: GINI & KS \n",
    "**Explore Data Science Academy**\n",
    "\n",
    "**Author:** [Marang Mutloatse](https://www.linkedin.com/in/marangmutloatse/)\n",
    "\n",
    "**Email:** <marangmutloatse@gmail.com> \n",
    "\n",
    "**Last Revision**: 24 August 2020\n",
    "\n",
    "**version**: 1.4\n",
    "\n",
    "- **For the best viewing experience, one should [view this notebook in nbviewer](https://nbviewer.jupyter.org/github/maz2198/explore/blob/master/EvaluationMetrics_GiniandKS.ipynb).**\n",
    "- **With no local installation required, you can also [execute the code in this notebook on Binder](https://mybinder.org/v2/gh/maz2198/explore/master?filepath=EvaluationMetrics_GiniandKS.ipynb)**."
   ]
  },
  {
   "cell_type": "markdown",
   "metadata": {
    "toc": true
   },
   "source": [
    "<h1>Table of Contents<span class=\"tocSkip\"></span></h1>\n",
    "<div class=\"toc\"><ul class=\"toc-item\"><li><span><a href=\"#Evaluation-Metrics:-GINI-&amp;-KS\" data-toc-modified-id=\"Evaluation-Metrics:-GINI-&amp;-KS-1\"><span class=\"toc-item-num\">1&nbsp;&nbsp;</span>Evaluation Metrics: GINI &amp; KS</a></span><ul class=\"toc-item\"><li><span><a href=\"#Learning-Objectives\" data-toc-modified-id=\"Learning-Objectives-1.1\"><span class=\"toc-item-num\">1.1&nbsp;&nbsp;</span>Learning Objectives</a></span></li><li><span><a href=\"#Outline\" data-toc-modified-id=\"Outline-1.2\"><span class=\"toc-item-num\">1.2&nbsp;&nbsp;</span>Outline</a></span></li><li><span><a href=\"#Introduction\" data-toc-modified-id=\"Introduction-1.3\"><span class=\"toc-item-num\">1.3&nbsp;&nbsp;</span>Introduction</a></span><ul class=\"toc-item\"><li><span><a href=\"#F1-score\" data-toc-modified-id=\"F1-score-1.3.1\"><span class=\"toc-item-num\">1.3.1&nbsp;&nbsp;</span>F1-score</a></span></li><li><span><a href=\"#Harmonic-Average\" data-toc-modified-id=\"Harmonic-Average-1.3.2\"><span class=\"toc-item-num\">1.3.2&nbsp;&nbsp;</span>Harmonic Average</a></span></li><li><span><a href=\"#GINI\" data-toc-modified-id=\"GINI-1.3.3\"><span class=\"toc-item-num\">1.3.3&nbsp;&nbsp;</span>GINI</a></span></li><li><span><a href=\"#Kolmogorov-Smirnov-(KS)-statistic\" data-toc-modified-id=\"Kolmogorov-Smirnov-(KS)-statistic-1.3.4\"><span class=\"toc-item-num\">1.3.4&nbsp;&nbsp;</span>Kolmogorov-Smirnov (KS) statistic</a></span></li></ul></li></ul></li><li><span><a href=\"#Credit-Card-Fraud-Detection\" data-toc-modified-id=\"Credit-Card-Fraud-Detection-2\"><span class=\"toc-item-num\">2&nbsp;&nbsp;</span>Credit Card Fraud Detection</a></span><ul class=\"toc-item\"><li><span><a href=\"#For-banks,-why-is-detecting-fraud-important-and-what-is-the-cost-of-fraud?\" data-toc-modified-id=\"For-banks,-why-is-detecting-fraud-important-and-what-is-the-cost-of-fraud?-2.1\"><span class=\"toc-item-num\">2.1&nbsp;&nbsp;</span>For banks, why is detecting fraud important and what is the cost of fraud?</a></span></li><li><span><a href=\"#Installation-and-Required-Libraries\" data-toc-modified-id=\"Installation-and-Required-Libraries-2.2\"><span class=\"toc-item-num\">2.2&nbsp;&nbsp;</span>Installation and Required Libraries</a></span></li><li><span><a href=\"#Import-Libraries\" data-toc-modified-id=\"Import-Libraries-2.3\"><span class=\"toc-item-num\">2.3&nbsp;&nbsp;</span>Import Libraries</a></span></li><li><span><a href=\"#Data-Loading\" data-toc-modified-id=\"Data-Loading-2.4\"><span class=\"toc-item-num\">2.4&nbsp;&nbsp;</span>Data Loading</a></span><ul class=\"toc-item\"><li><span><a href=\"#Fraud-Rate\" data-toc-modified-id=\"Fraud-Rate-2.4.1\"><span class=\"toc-item-num\">2.4.1&nbsp;&nbsp;</span>Fraud Rate</a></span></li></ul></li><li><span><a href=\"#Resampling\" data-toc-modified-id=\"Resampling-2.5\"><span class=\"toc-item-num\">2.5&nbsp;&nbsp;</span>Resampling</a></span><ul class=\"toc-item\"><li><span><a href=\"#Original-Fraud-Rate\" data-toc-modified-id=\"Original-Fraud-Rate-2.5.1\"><span class=\"toc-item-num\">2.5.1&nbsp;&nbsp;</span>Original Fraud Rate</a></span></li></ul></li><li><span><a href=\"#Train-test-split\" data-toc-modified-id=\"Train-test-split-2.6\"><span class=\"toc-item-num\">2.6&nbsp;&nbsp;</span>Train-test-split</a></span></li><li><span><a href=\"#Selecting-the-final-variables-and-target\" data-toc-modified-id=\"Selecting-the-final-variables-and-target-2.7\"><span class=\"toc-item-num\">2.7&nbsp;&nbsp;</span>Selecting the final variables and target</a></span></li><li><span><a href=\"#Formulae:-GINI-and-KS\" data-toc-modified-id=\"Formulae:-GINI-and-KS-2.8\"><span class=\"toc-item-num\">2.8&nbsp;&nbsp;</span>Formulae: GINI and KS</a></span><ul class=\"toc-item\"><li><span><a href=\"#GINI-for-train-and-test-samples\" data-toc-modified-id=\"GINI-for-train-and-test-samples-2.8.1\"><span class=\"toc-item-num\">2.8.1&nbsp;&nbsp;</span>GINI for train and test samples</a></span></li><li><span><a href=\"#KS-for-train-and-test-samples\" data-toc-modified-id=\"KS-for-train-and-test-samples-2.8.2\"><span class=\"toc-item-num\">2.8.2&nbsp;&nbsp;</span>KS for train and test samples</a></span></li></ul></li></ul></li><li><span><a href=\"#Conclusion\" data-toc-modified-id=\"Conclusion-3\"><span class=\"toc-item-num\">3&nbsp;&nbsp;</span>Conclusion</a></span><ul class=\"toc-item\"><li><span><a href=\"#Homework-Exercises\" data-toc-modified-id=\"Homework-Exercises-3.1\"><span class=\"toc-item-num\">3.1&nbsp;&nbsp;</span>Homework Exercises</a></span></li></ul></li><li><span><a href=\"#Further-Reading\" data-toc-modified-id=\"Further-Reading-4\"><span class=\"toc-item-num\">4&nbsp;&nbsp;</span>Further Reading</a></span></li><li><span><a href=\"#Advanced-Optional-Exercises\" data-toc-modified-id=\"Advanced-Optional-Exercises-5\"><span class=\"toc-item-num\">5&nbsp;&nbsp;</span>Advanced Optional Exercises</a></span></li></ul></div>"
   ]
  },
  {
   "cell_type": "markdown",
   "metadata": {},
   "source": [
    "## Learning Objectives\n",
    "\n",
    "[[ go back to the top ]](#Table-of-contents)\n",
    "- Brief overview of Credit Card Fraud Detection\n",
    "- GINI co-efficient\n",
    "- Kolmolgorov-Smirnov (KS) statistic\n"
   ]
  },
  {
   "cell_type": "markdown",
   "metadata": {},
   "source": [
    "## Outline\n",
    "[[ go back to the top ]](#Table-of-contents)\n",
    "- Classification Model Metrics\n",
    "- Imbalanced Classification\n",
    " - Credit Card Default Detection\n",
    " - GINI co-efficient overview\n",
    " - KS statistic overview\n",
    " - Brazil Use Case\n",
    " \n"
   ]
  },
  {
   "cell_type": "markdown",
   "metadata": {},
   "source": [
    "## Introduction\n",
    "\n",
    "[[ go back to the top ]](#Table-of-contents)\n",
    "\n",
    "Let's have a brief recap on some of the evaluation metrics typically used in binary/multiclass classification problems. Below is a confusion matrix:"
   ]
  },
  {
   "cell_type": "markdown",
   "metadata": {},
   "source": [
    "<img src = \"img/09_matriz.confusion.jpg\" width = 300 height = 300 align = \"center\">\n",
    "\n",
    "Where:\n",
    "- **TP** = True Positive - True Positive - It is 1 and I rate it as 1.\n",
    "- **TN** = True Negative - True Negative - It is 0 and I rate it as 0.\n",
    "- **FN** = False Negative - False Negative.\n",
    "- **FP** = False Positive - Positive False.\n",
    "\n",
    "\n",
    "* Accuracy (accuracy) answers the question, **What is the proportion of correct predictions?**\n",
    "\\begin{equation*}\n",
    "accuracy =\n",
    "\\frac{( TP + TN )} {Total ( TP + TN + FP + FN)}\n",
    "\\end{equation*}\n",
    "\n",
    "* Sensitivity (recall) or Percent Support (support) answers the question, **What proportion of real positives have been correctly predicted?**\n",
    "\\begin{equation*}\n",
    "recall =\n",
    "\\frac{( TP )} {( TP + FN)}\n",
    "\\end{equation*}\n",
    "\n",
    "\n",
    "\n",
    "* Precision (Confidence) responds to the question, **What proportion of my positive predictions is correct?**\n",
    "\\begin{equation*}\n",
    "precision =\n",
    "\\frac{( TP )} {( TP + FP)}\n",
    "\\end{equation*}\n",
    "\n",
    "Note that sensitivity and accuracy are defined here as proportion of real positives and proportion of positive predictions.\n",
    "\n",
    "### F1-score\n",
    "\n",
    "The F1-score is a classifying metric that calculates a mean of accuracy and recall in a way that emphasizes the lowest value.\n",
    "\n",
    "It is calculated as the harmonic average of precision and recall, where an F1-score reaches its best value at 1 (perfect accuracy and reminder) and the worst at 0.\n",
    "\n",
    "<img src=\"img/10_f1-score.png\" width=400 height=400 align=\"center\">\n",
    "\n",
    "### Harmonic Average\n",
    "\n",
    "The harmonic mean is defined as the inverse of the arithmetic mean of the inverses. Because of that, the result is not sensitive to extremely large values.\n",
    "\n",
    "<img src = \"img/11_armonic_mean.png\" width = 400 height = 400 align = \"center\">"
   ]
  },
  {
   "cell_type": "markdown",
   "metadata": {},
   "source": [
    "Let's move onto `GINI` and `KS`."
   ]
  },
  {
   "cell_type": "markdown",
   "metadata": {},
   "source": [
    "### GINI"
   ]
  },
  {
   "cell_type": "markdown",
   "metadata": {},
   "source": [
    "`Gini` is most commonly used for imbalanced datasets where the probability alone makes it difficult to predict an outcome [1](https://blog.instantor.com/the-impact-of-gini-on-modern-credit-risk-models#:~:text=Gini%20is%20measured%20in%20values,the%20model%20is%20entirely%20inaccurate.). `GINI` coefficient is a standard metric in risk assessment because the likelihood of default is relatively low. In the consumer finance industry, `GINI` can assess the accuracy of a prediction around whether a transaction is fraudulent or not.\n",
    "\n",
    "It can be expressed as:\n",
    "\n",
    "`GINI`: 2(AUC - 0.5),\n",
    "\n",
    "where AUC - Area Under the Curve\n",
    "\n",
    "<img src = \"img/AUC.PNG\" width = 500 height = 500 align = \"center\">\n",
    "\n",
    "Gini is measured in values between 0 and 1, where a score of 1 means that the model is 100% accurate in predicting the outcome. A score of 1 only exists in theory. In practice, the closer the Gini is to 1, the better. Whereas, a Gini score equal to 0 means the model is entirely inaccurate. To achieve a score of 0, the model would have to ascribe random values to every prediction. Now let's move onto KS metric."
   ]
  },
  {
   "cell_type": "markdown",
   "metadata": {},
   "source": [
    "### Kolmogorov-Smirnov (KS) statistic"
   ]
  },
  {
   "cell_type": "markdown",
   "metadata": {},
   "source": [
    "`KS` measures the degree of separation between the distributions of the positive and negative classes. In the case of credit fraud detection, it can be expressed as:\n",
    "\n",
    "\n",
    "`KS` = **|cumulative % of total of non-fraud cases - cumulative % of total fraud cases|**\n",
    "\n",
    "This can be illustrated by the plot below:\n",
    "\n",
    "<img src = \"img/KS.PNG\" width = 500 height = 500 align = \"center\">\n",
    "\n",
    "The higher the value (closer to 1), the better the model is at separating the positive from negative cases. So if a model cannot separate positive from negative cases, then the `KS` will be closer to 0. It should be noted though that typical good `KS` values are around 0.5."
   ]
  },
  {
   "cell_type": "markdown",
   "metadata": {},
   "source": [
    "So why are GINI and KS effective evaluation metrics? They are cost-sensitive, flexible (create different thresholds to penalize different FPR and TPR) and so they are a reliable mteric to measure the predictive power of your model (especially an imbalanced dataset). Let's get a glimpse of it in a Credit Card Fraud Detection model.\n"
   ]
  },
  {
   "cell_type": "markdown",
   "metadata": {},
   "source": [
    "# Credit Card Fraud Detection\n",
    "\n",
    "[[ go back to the top ]](#Table-of-contents)"
   ]
  },
  {
   "cell_type": "markdown",
   "metadata": {},
   "source": [
    "## For banks, why is detecting fraud important and what is the cost of fraud?\n",
    "\n",
    "**Tangibles**\n",
    "- Cost of investigation\n",
    "- Amount lent\n",
    "- Cost of inclusions of card number into black list\n",
    "- If not a real fraud - loss income\n",
    "- If not a real fraud - loss in market\n",
    "- Operational Costs - sending a new card\n",
    "\n",
    "**Intangibles for bad fraud management**\n",
    "- Reduction of customer satisfaction\n",
    "- Loss of brand loyalty \n",
    "- Cost of opportunity\n"
   ]
  },
  {
   "cell_type": "markdown",
   "metadata": {},
   "source": [
    "The trouble with fraud detection, the effects and costs are high, but the occurrences are quite low. Moreover, the behavhiour of fraudsters is constantly changing which makes it more difficult to identify. It's not trying to find a needle in a haystack, it's trying to find a needle in a needle-stack! Let's see the fraudsters at work..."
   ]
  },
  {
   "cell_type": "markdown",
   "metadata": {},
   "source": [
    "## Installation and Required Libraries\n",
    "\n",
    "[[ go back to the top ]](#Table-of-contents)"
   ]
  },
  {
   "cell_type": "markdown",
   "metadata": {},
   "source": [
    "This notebook is based on *python 3x* and uses several Python packages that come standard with the Anaconda Python distribution. The primary libraries that we'll be using are:\n",
    "\n",
    "- [NumPy](https://numpy.org/install/)\n",
    "- [pandas](https://pandas.pydata.org/pandas-docs/version/0.17.0/install.html)\n",
    "- [scikit-learn](https://scikit-learn.org/stable/install.html)\n",
    "- [matplotlib](https://matplotlib.org/3.3.1/users/installing.html)\n",
    "- [warnings](https://docs.python.org/3/library/warnings.html)\n",
    "\n",
    "To ensure you have all of the packages to run the notebook, install them with `conda`:\n",
    "\n",
    "    conda install numpy pandas scikit-learn matplotlib warnings\n",
    "\n",
    "`Conda` may prompt an update if the most recent version is not installed. Allow it to do so.\n",
    "\n",
    "**Note:** Ideally in an end-to-end Machine learning project, one would create an [environment](https://docs.conda.io/projects/conda/en/latest/user-guide/tasks/manage-environments.html) with the packages and the correct versions for the specific model. To see more about MLOps and the machine learning pipeline, read [here](https://christophergs.com/machine%20learning/2019/03/17/how-to-deploy-machine-learning-models/)."
   ]
  },
  {
   "cell_type": "markdown",
   "metadata": {},
   "source": [
    "## Import Libraries\n",
    "\n",
    "[[ go back to the top ]](#Table-of-contents)"
   ]
  },
  {
   "cell_type": "code",
   "execution_count": 1,
   "metadata": {},
   "outputs": [],
   "source": [
    "import pandas as pd #Provides a DataFrame structure to store data in memory and work with it easily and efficiently.\n",
    "import numpy as np #Provides a fast numerical array structure and helper functions.\n",
    "import matplotlib.pyplot as plt #Basic plotting library in Python; most other Python plotting libraries are built on top of it.\n",
    "%matplotlib inline\n",
    "\n",
    "#Suppressing warnings\n",
    "import warnings\n",
    "warnings.filterwarnings('ignore')"
   ]
  },
  {
   "cell_type": "markdown",
   "metadata": {},
   "source": [
    "## Data Loading\n",
    "\n",
    "[[ go back to the top ]](#Table-of-contents)"
   ]
  },
  {
   "cell_type": "code",
   "execution_count": 2,
   "metadata": {},
   "outputs": [],
   "source": [
    "# loading the data from the public url\n",
    "url = \"https://raw.githubusercontent.com/maz2198/explore/master/data/creditcard_transaction_fraud_full.csv\"\n",
    "df = pd.read_csv(url)\n",
    "df.index = df.iloc[:,0] # set index\n",
    "df = df.drop(df.columns[0], axis=1) "
   ]
  },
  {
   "cell_type": "markdown",
   "metadata": {},
   "source": [
    "Next we will check the shape and descriptive info of the data."
   ]
  },
  {
   "cell_type": "code",
   "execution_count": 3,
   "metadata": {},
   "outputs": [
    {
     "data": {
      "text/plain": [
       "(41647, 18)"
      ]
     },
     "execution_count": 3,
     "metadata": {},
     "output_type": "execute_result"
    }
   ],
   "source": [
    "df.shape"
   ]
  },
  {
   "cell_type": "code",
   "execution_count": 4,
   "metadata": {},
   "outputs": [
    {
     "name": "stdout",
     "output_type": "stream",
     "text": [
      "<class 'pandas.core.frame.DataFrame'>\n",
      "Int64Index: 41647 entries, 0 to 41646\n",
      "Data columns (total 18 columns):\n",
      " #   Column                                          Non-Null Count  Dtype  \n",
      "---  ------                                          --------------  -----  \n",
      " 0   merchant_category_code_cat                      41647 non-null  float64\n",
      " 1   merchant_category_code_previoustransaction_cat  41647 non-null  float64\n",
      " 2   zipcode_cat                                     41647 non-null  float64\n",
      " 3   zipcode_previoustransaction_cat                 41647 non-null  float64\n",
      " 4   transaction_value_cat                           41647 non-null  float64\n",
      " 5   transaction_value_previoustransaction_cat       41647 non-null  float64\n",
      " 6   pos_entry                                       41647 non-null  float64\n",
      " 7   creditcard_limit_cat                            41647 non-null  float64\n",
      " 8   brand_visa_mastercard_cat                       41647 non-null  float64\n",
      " 9   type_of_creditcard_cat                          41647 non-null  float64\n",
      " 10  fraudscore_cat                                  41647 non-null  float64\n",
      " 11  type_person_cat                                 41647 non-null  float64\n",
      " 12  trans_nacional_cat                              41647 non-null  float64\n",
      " 13  numb_of_installments_cat                        41647 non-null  float64\n",
      " 14  transactionspeed_cat                            41647 non-null  float64\n",
      " 15  dif_fraudscore_cat                              41647 non-null  float64\n",
      " 16  transaction_limit_cat                           41647 non-null  float64\n",
      " 17  TARGET                                          41647 non-null  int64  \n",
      "dtypes: float64(17), int64(1)\n",
      "memory usage: 6.0 MB\n"
     ]
    }
   ],
   "source": [
    "df.info()"
   ]
  },
  {
   "cell_type": "markdown",
   "metadata": {},
   "source": [
    "The original dataset is from [credit fraud detection modelling dataset from Brazil](https://knoema.com/atlas/Brazil/datasets). The data has 17 features and the `TARGET` which is two classes namely, **1** for **Fraud** and **0** for **non-fraud**. So this is a binary classfication problem. Let's transpose the data to see the variables of each feature."
   ]
  },
  {
   "cell_type": "code",
   "execution_count": 5,
   "metadata": {},
   "outputs": [
    {
     "data": {
      "text/html": [
       "<div>\n",
       "<style scoped>\n",
       "    .dataframe tbody tr th:only-of-type {\n",
       "        vertical-align: middle;\n",
       "    }\n",
       "\n",
       "    .dataframe tbody tr th {\n",
       "        vertical-align: top;\n",
       "    }\n",
       "\n",
       "    .dataframe thead th {\n",
       "        text-align: right;\n",
       "    }\n",
       "</style>\n",
       "<table border=\"1\" class=\"dataframe\">\n",
       "  <thead>\n",
       "    <tr style=\"text-align: right;\">\n",
       "      <th>Unnamed: 0</th>\n",
       "      <th>0</th>\n",
       "      <th>1</th>\n",
       "      <th>2</th>\n",
       "      <th>3</th>\n",
       "      <th>4</th>\n",
       "    </tr>\n",
       "  </thead>\n",
       "  <tbody>\n",
       "    <tr>\n",
       "      <th>merchant_category_code_cat</th>\n",
       "      <td>9.0</td>\n",
       "      <td>22.0</td>\n",
       "      <td>22.0</td>\n",
       "      <td>9.0</td>\n",
       "      <td>15.0</td>\n",
       "    </tr>\n",
       "    <tr>\n",
       "      <th>merchant_category_code_previoustransaction_cat</th>\n",
       "      <td>22.0</td>\n",
       "      <td>22.0</td>\n",
       "      <td>22.0</td>\n",
       "      <td>0.0</td>\n",
       "      <td>9.0</td>\n",
       "    </tr>\n",
       "    <tr>\n",
       "      <th>zipcode_cat</th>\n",
       "      <td>3.0</td>\n",
       "      <td>3.0</td>\n",
       "      <td>3.0</td>\n",
       "      <td>2.0</td>\n",
       "      <td>2.0</td>\n",
       "    </tr>\n",
       "    <tr>\n",
       "      <th>zipcode_previoustransaction_cat</th>\n",
       "      <td>3.0</td>\n",
       "      <td>3.0</td>\n",
       "      <td>3.0</td>\n",
       "      <td>0.0</td>\n",
       "      <td>2.0</td>\n",
       "    </tr>\n",
       "    <tr>\n",
       "      <th>transaction_value_cat</th>\n",
       "      <td>6.0</td>\n",
       "      <td>7.0</td>\n",
       "      <td>7.0</td>\n",
       "      <td>4.0</td>\n",
       "      <td>4.0</td>\n",
       "    </tr>\n",
       "    <tr>\n",
       "      <th>transaction_value_previoustransaction_cat</th>\n",
       "      <td>6.0</td>\n",
       "      <td>7.0</td>\n",
       "      <td>7.0</td>\n",
       "      <td>1.0</td>\n",
       "      <td>4.0</td>\n",
       "    </tr>\n",
       "    <tr>\n",
       "      <th>pos_entry</th>\n",
       "      <td>2.0</td>\n",
       "      <td>2.0</td>\n",
       "      <td>2.0</td>\n",
       "      <td>2.0</td>\n",
       "      <td>2.0</td>\n",
       "    </tr>\n",
       "    <tr>\n",
       "      <th>creditcard_limit_cat</th>\n",
       "      <td>6.0</td>\n",
       "      <td>6.0</td>\n",
       "      <td>6.0</td>\n",
       "      <td>4.0</td>\n",
       "      <td>4.0</td>\n",
       "    </tr>\n",
       "    <tr>\n",
       "      <th>brand_visa_mastercard_cat</th>\n",
       "      <td>2.0</td>\n",
       "      <td>2.0</td>\n",
       "      <td>2.0</td>\n",
       "      <td>2.0</td>\n",
       "      <td>2.0</td>\n",
       "    </tr>\n",
       "    <tr>\n",
       "      <th>type_of_creditcard_cat</th>\n",
       "      <td>3.0</td>\n",
       "      <td>3.0</td>\n",
       "      <td>3.0</td>\n",
       "      <td>3.0</td>\n",
       "      <td>3.0</td>\n",
       "    </tr>\n",
       "    <tr>\n",
       "      <th>fraudscore_cat</th>\n",
       "      <td>0.0</td>\n",
       "      <td>0.0</td>\n",
       "      <td>3.0</td>\n",
       "      <td>0.0</td>\n",
       "      <td>0.0</td>\n",
       "    </tr>\n",
       "    <tr>\n",
       "      <th>type_person_cat</th>\n",
       "      <td>1.0</td>\n",
       "      <td>1.0</td>\n",
       "      <td>1.0</td>\n",
       "      <td>1.0</td>\n",
       "      <td>1.0</td>\n",
       "    </tr>\n",
       "    <tr>\n",
       "      <th>trans_nacional_cat</th>\n",
       "      <td>0.0</td>\n",
       "      <td>0.0</td>\n",
       "      <td>0.0</td>\n",
       "      <td>0.0</td>\n",
       "      <td>0.0</td>\n",
       "    </tr>\n",
       "    <tr>\n",
       "      <th>numb_of_installments_cat</th>\n",
       "      <td>1.0</td>\n",
       "      <td>1.0</td>\n",
       "      <td>1.0</td>\n",
       "      <td>1.0</td>\n",
       "      <td>1.0</td>\n",
       "    </tr>\n",
       "    <tr>\n",
       "      <th>transactionspeed_cat</th>\n",
       "      <td>7.0</td>\n",
       "      <td>4.0</td>\n",
       "      <td>6.0</td>\n",
       "      <td>2.0</td>\n",
       "      <td>3.0</td>\n",
       "    </tr>\n",
       "    <tr>\n",
       "      <th>dif_fraudscore_cat</th>\n",
       "      <td>1.0</td>\n",
       "      <td>4.0</td>\n",
       "      <td>5.0</td>\n",
       "      <td>3.0</td>\n",
       "      <td>3.0</td>\n",
       "    </tr>\n",
       "    <tr>\n",
       "      <th>transaction_limit_cat</th>\n",
       "      <td>0.0</td>\n",
       "      <td>0.0</td>\n",
       "      <td>0.0</td>\n",
       "      <td>0.0</td>\n",
       "      <td>0.0</td>\n",
       "    </tr>\n",
       "    <tr>\n",
       "      <th>TARGET</th>\n",
       "      <td>0.0</td>\n",
       "      <td>0.0</td>\n",
       "      <td>1.0</td>\n",
       "      <td>0.0</td>\n",
       "      <td>0.0</td>\n",
       "    </tr>\n",
       "  </tbody>\n",
       "</table>\n",
       "</div>"
      ],
      "text/plain": [
       "Unnamed: 0                                         0     1     2    3     4\n",
       "merchant_category_code_cat                       9.0  22.0  22.0  9.0  15.0\n",
       "merchant_category_code_previoustransaction_cat  22.0  22.0  22.0  0.0   9.0\n",
       "zipcode_cat                                      3.0   3.0   3.0  2.0   2.0\n",
       "zipcode_previoustransaction_cat                  3.0   3.0   3.0  0.0   2.0\n",
       "transaction_value_cat                            6.0   7.0   7.0  4.0   4.0\n",
       "transaction_value_previoustransaction_cat        6.0   7.0   7.0  1.0   4.0\n",
       "pos_entry                                        2.0   2.0   2.0  2.0   2.0\n",
       "creditcard_limit_cat                             6.0   6.0   6.0  4.0   4.0\n",
       "brand_visa_mastercard_cat                        2.0   2.0   2.0  2.0   2.0\n",
       "type_of_creditcard_cat                           3.0   3.0   3.0  3.0   3.0\n",
       "fraudscore_cat                                   0.0   0.0   3.0  0.0   0.0\n",
       "type_person_cat                                  1.0   1.0   1.0  1.0   1.0\n",
       "trans_nacional_cat                               0.0   0.0   0.0  0.0   0.0\n",
       "numb_of_installments_cat                         1.0   1.0   1.0  1.0   1.0\n",
       "transactionspeed_cat                             7.0   4.0   6.0  2.0   3.0\n",
       "dif_fraudscore_cat                               1.0   4.0   5.0  3.0   3.0\n",
       "transaction_limit_cat                            0.0   0.0   0.0  0.0   0.0\n",
       "TARGET                                           0.0   0.0   1.0  0.0   0.0"
      ]
     },
     "execution_count": 5,
     "metadata": {},
     "output_type": "execute_result"
    }
   ],
   "source": [
    "df.head().T"
   ]
  },
  {
   "cell_type": "markdown",
   "metadata": {},
   "source": [
    "Note signficant preprocessing/variable transformation has been conducted to make the categorical variables numerical as the machine learning algorithms require the features to be numeric, and there be no missing data. The descriptions of the features can be found [here](https://teses.usp.br/teses/disponiveis/45/45134/tde-05022015-232801/en.php). Moreover, here are some techniques for [categorical encoding](https://towardsdatascience.com/all-about-categorical-variable-encoding-305f3361fd02) and [imputing missing data](https://towardsdatascience.com/6-different-ways-to-compensate-for-missing-values-data-imputation-with-examples-6022d9ca0779) by [David J. Fogarty](http://citeseerx.ist.psu.edu/viewdoc/download?doi=10.1.1.627.6562&rep=rep1&type=pdf) "
   ]
  },
  {
   "cell_type": "markdown",
   "metadata": {},
   "source": [
    "Now let's plot the **non-fraud** vs the **fraud** cases to see to the balance of the `TARGET` variables."
   ]
  },
  {
   "cell_type": "markdown",
   "metadata": {},
   "source": [
    "### Fraud Rate"
   ]
  },
  {
   "cell_type": "code",
   "execution_count": 6,
   "metadata": {},
   "outputs": [
    {
     "data": {
      "image/png": "[encoded data removed]",
      "text/plain": [
       "<Figure size 432x288 with 1 Axes>"
      ]
     },
     "metadata": {
      "needs_background": "light"
     },
     "output_type": "display_data"
    }
   ],
   "source": [
    "# Labelling majority and minority classes\n",
    "non_fraud = df[df['TARGET']==0.0]\n",
    "fraud = df[df['TARGET']==1.0]\n",
    "\n",
    "# Plot the majority (non-fraud) and minority ()\n",
    "labels = df['TARGET'].unique()\n",
    "heights = [len(fraud),len(non_fraud)]\n",
    "plt.bar(labels,heights,color='blue')\n",
    "plt.xticks(labels,['fraud','non fraud'])\n",
    "plt.ylabel(\"# of cases\")\n",
    "plt.title(\"# of Credit Card Fraud cases\")\n",
    "plt.show()"
   ]
  },
  {
   "cell_type": "code",
   "execution_count": 7,
   "metadata": {},
   "outputs": [
    {
     "name": "stdout",
     "output_type": "stream",
     "text": [
      "0.03743366869162244\n"
     ]
    }
   ],
   "source": [
    "# Percentage of fraud in the credit dataset\n",
    "print(df['TARGET'].sum() / df['TARGET'].count())"
   ]
  },
  {
   "cell_type": "code",
   "execution_count": 8,
   "metadata": {},
   "outputs": [
    {
     "data": {
      "text/plain": [
       "0.9625663313083775"
      ]
     },
     "execution_count": 8,
     "metadata": {},
     "output_type": "execute_result"
    }
   ],
   "source": [
    "# Percentage of non-fraud in the credit dataset\n",
    "len(non_fraud)/(len(df))"
   ]
  },
  {
   "cell_type": "markdown",
   "metadata": {},
   "source": [
    "The two classes are highly imbalanced. To put this in perspective as to why this is such an issue, say we had a model that always predicts that a given email is not spam (clearly a really bad model!). Such a model would achieve an accuracy of 87%! This is why (as explained in previous trains), class imbalance can be a serious problem if left unchecked.\n",
    "\n",
    "We'll utilize some resampling techniques to address this issue. "
   ]
  },
  {
   "cell_type": "markdown",
   "metadata": {},
   "source": [
    "## Resampling\n",
    "\n",
    "[[ go back to the top ]](#Table-of-contents)\n",
    "\n",
    "The dataset has been downsampled 100x (reducing non-fraud cases randomly)."
   ]
  },
  {
   "cell_type": "markdown",
   "metadata": {},
   "source": [
    "__Oversampling__ is a technique where one replicates (oversample) the minority class (fraud) in order to balance different costs for false positives and false negatives. Oversampling of minority class is recommended for small/medium dataset sizes.\n",
    "\n",
    "__Undersampling__ is a technique where one samples the majority class (non-fraud) down rate in order to balance different costs for false positives and false negatives. Undersampling the majority class is recommended for big/huge dataset sizes."
   ]
  },
  {
   "cell_type": "markdown",
   "metadata": {},
   "source": [
    "### Original Fraud Rate"
   ]
  },
  {
   "cell_type": "code",
   "execution_count": 9,
   "metadata": {},
   "outputs": [
    {
     "name": "stdout",
     "output_type": "stream",
     "text": [
      "0.0003887432521627116\n"
     ]
    }
   ],
   "source": [
    "print(df['TARGET'].sum() / ((df['TARGET'].count()-df['TARGET'].sum())*100+df['TARGET'].sum()) )"
   ]
  },
  {
   "cell_type": "code",
   "execution_count": 10,
   "metadata": {},
   "outputs": [
    {
     "name": "stdout",
     "output_type": "stream",
     "text": [
      "3.887432521627116 basis points\n"
     ]
    }
   ],
   "source": [
    "print(10000*df['TARGET'].sum() / ((df['TARGET'].count()-df['TARGET'].sum())*100+df['TARGET'].sum()),\"basis points\" )"
   ]
  },
  {
   "cell_type": "markdown",
   "metadata": {},
   "source": [
    "## Train-test-split\n",
    "\n",
    "[[ go back to the top ]](#Table-of-contents)\n",
    "\n",
    "Next we split our dataset into training and testing sets so that we can later evaluate the performance of the model."
   ]
  },
  {
   "cell_type": "code",
   "execution_count": 11,
   "metadata": {},
   "outputs": [
    {
     "name": "stdout",
     "output_type": "stream",
     "text": [
      "Dataset shape: (33317, 18)\n",
      "Dataset shape: (8330, 18)\n"
     ]
    }
   ],
   "source": [
    "from sklearn.model_selection import train_test_split\n",
    "splitter = train_test_split\n",
    "\"-----------------------\"\n",
    "\n",
    "df_train, df_test = splitter(df, test_size = 0.2, random_state = 42) # set test size to 20 % of training data\n",
    "print(\"Dataset shape: {shape}\".format(shape = df_train.shape))\n",
    "print(\"Dataset shape: {shape}\".format(shape = df_test.shape))"
   ]
  },
  {
   "cell_type": "markdown",
   "metadata": {},
   "source": [
    "## Selecting the final variables and target\n",
    "\n",
    "[[ go back to the top ]](#Table-of-contents)"
   ]
  },
  {
   "cell_type": "code",
   "execution_count": 12,
   "metadata": {},
   "outputs": [],
   "source": [
    "# selecting final variables to train according to data type\n",
    "def get_specific_columns(df, data_types, to_ignore = list(), ignore_target = False):\n",
    "    columns = df.select_dtypes(include=data_types).columns\n",
    "    if ignore_target:\n",
    "        columns = filter(lambda x: x not in to_ignore, list(columns))\n",
    "    return list(columns)\n",
    "\n",
    "target = \"TARGET\"\n",
    "variables = list(get_specific_columns(df, [\"float64\", \"int64\"], [target], ignore_target = True))\n"
   ]
  },
  {
   "cell_type": "markdown",
   "metadata": {},
   "source": [
    "Now we are setting the training and testing variables and target values."
   ]
  },
  {
   "cell_type": "code",
   "execution_count": 13,
   "metadata": {},
   "outputs": [],
   "source": [
    "X_train= df_train[variables] # training variables\n",
    "y_train = df_train[target] # training target\n",
    "\n",
    "X_test= df_test[variables] # test variables\n",
    "y_test = df_test[target] # test target variable"
   ]
  },
  {
   "cell_type": "markdown",
   "metadata": {},
   "source": [
    "Now we are fitting a Logistic Regression model to the training dataset by calling the `.fit()` in sklearn.\n"
   ]
  },
  {
   "cell_type": "code",
   "execution_count": 14,
   "metadata": {},
   "outputs": [],
   "source": [
    "from sklearn.linear_model import LogisticRegression\n",
    "clf = LogisticRegression(random_state=0) # instantiate the model\n",
    "fitted_model = clf.fit(X_train, y_train)"
   ]
  },
  {
   "cell_type": "markdown",
   "metadata": {},
   "source": [
    "Let's retrieve the predicted class using `.predict()` in sklearn. "
   ]
  },
  {
   "cell_type": "code",
   "execution_count": 15,
   "metadata": {},
   "outputs": [],
   "source": [
    "pred_train = fitted_model.predict(X_train)\n",
    "pred_test  = fitted_model.predict(X_test)"
   ]
  },
  {
   "cell_type": "markdown",
   "metadata": {},
   "source": [
    "Having generated predicted classes, now we will calculate the `ACCURACY` and `F1-SCORE`(because why not!), separating **train** and **test** samples."
   ]
  },
  {
   "cell_type": "code",
   "execution_count": 16,
   "metadata": {},
   "outputs": [
    {
     "name": "stdout",
     "output_type": "stream",
     "text": [
      "Accuracy* Train: 0.9617312483116727\n",
      "Accuracy* Test: 0.9623049219687875\n",
      "-----------------------------------\n",
      "F1-score* Train: 0.180064308681672\n",
      "F1-score* Test: 0.19487179487179487\n"
     ]
    }
   ],
   "source": [
    "from sklearn.metrics import accuracy_score,f1_score,roc_auc_score\n",
    "print(\"Accuracy* Train: {0}\".format(accuracy_score(y_train,pred_train)))\n",
    "print(\"Accuracy* Test: {0}\".format(accuracy_score(y_test,pred_test)))\n",
    "print(\"-----------------------------------\")\n",
    "print(\"F1-score* Train: {0}\".format(f1_score(y_train,pred_train)))\n",
    "print(\"F1-score* Test: {0}\".format(f1_score(y_test,pred_test)))"
   ]
  },
  {
   "cell_type": "markdown",
   "metadata": {},
   "source": [
    "However, as Fraud Rate is:"
   ]
  },
  {
   "cell_type": "code",
   "execution_count": 17,
   "metadata": {},
   "outputs": [
    {
     "name": "stdout",
     "output_type": "stream",
     "text": [
      "0.0003887432521627116\n"
     ]
    }
   ],
   "source": [
    "print(df['TARGET'].sum() / ((df['TARGET'].count()-df['TARGET'].sum())*100+df['TARGET'].sum()) )"
   ]
  },
  {
   "cell_type": "markdown",
   "metadata": {},
   "source": [
    "A model that predicts all cases to be non-fraud has an accuracy of:"
   ]
  },
  {
   "cell_type": "code",
   "execution_count": 18,
   "metadata": {},
   "outputs": [
    {
     "data": {
      "text/plain": [
       "0.9996112567478372"
      ]
     },
     "execution_count": 18,
     "metadata": {},
     "output_type": "execute_result"
    }
   ],
   "source": [
    "1-df['TARGET'].sum() / ((df['TARGET'].count()-df['TARGET'].sum())*100+df['TARGET'].sum())"
   ]
  },
  {
   "cell_type": "markdown",
   "metadata": {},
   "source": [
    "An accuracy of 99,96 % for predicting non-fraud is great model right? **False**, it's misleading. The main objective of credit fraud detection modelling is to detect the minority class with an elevated confidence. As I have said before, it's not about finding a needle in haystack, it's about finding a needle within a needle-stack."
   ]
  },
  {
   "cell_type": "markdown",
   "metadata": {},
   "source": [
    "We will now use GINI and KS to see if there is any thing good about our model. Before we move on, watch this short video on [Gini & KS Statistics in Credit Scoring](https://youtu.be/MiBUBVUC8kE) to remind ourselves of `GINI` and `KS`."
   ]
  },
  {
   "cell_type": "markdown",
   "metadata": {},
   "source": [
    "Because `GINI` and `KS` are based on a probability distribution, let's retrieve the probability of being fraud using the `predict_proba()` from sklearn. `Predict_proba()` analyses the values of a row in our dataset and gives the probability of a result. So this can help us understand what factors determine the higher or lower probability of the result."
   ]
  },
  {
   "cell_type": "code",
   "execution_count": 19,
   "metadata": {},
   "outputs": [],
   "source": [
    "pred_train_proba = fitted_model.predict_proba(X_train)[:,1] # training fraud probability\n",
    "pred_test_proba  = fitted_model.predict_proba(X_test)[:,1] # testing fraud probability"
   ]
  },
  {
   "cell_type": "markdown",
   "metadata": {},
   "source": [
    "Now let's plot the **roc_auc_curve** and see what's going on."
   ]
  },
  {
   "cell_type": "code",
   "execution_count": 20,
   "metadata": {},
   "outputs": [
    {
     "data": {
      "image/png": "[encoded data removed]",
      "text/plain": [
       "<Figure size 432x288 with 1 Axes>"
      ]
     },
     "metadata": {
      "needs_background": "light"
     },
     "output_type": "display_data"
    }
   ],
   "source": [
    "from sklearn.metrics import roc_auc_score,roc_curve\n",
    "logit_roc_auc = roc_auc_score(y_test, pred_test_proba) # obtaing a list of roc_auc scores\n",
    "fpr, tpr, thresholds = roc_curve(y_test, pred_test_proba) # plotting each point according to the false postive rate and true positive rate\n",
    "# plotting roc-auc curve\n",
    "plt.figure()\n",
    "plt.plot(fpr, tpr, label='Logistic Regression (area = %0.2f)' % logit_roc_auc)\n",
    "plt.plot([0, 1], [0, 1],'r--')\n",
    "plt.xlim([0.0, 1.0])\n",
    "plt.ylim([0.0, 1.05])\n",
    "plt.xlabel('False Positive Rate')\n",
    "plt.ylabel('True Positive Rate')\n",
    "plt.title('Receiver operating characteristic')\n",
    "plt.legend(loc=\"lower right\")\n",
    "#plt.savefig('Log_ROC')\n",
    "plt.show()"
   ]
  },
  {
   "cell_type": "markdown",
   "metadata": {},
   "source": [
    "Can you calculate the `GINI` the `KS` from the graph? No. Let's create some functions to do so. "
   ]
  },
  {
   "cell_type": "markdown",
   "metadata": {},
   "source": [
    "## Formulae: GINI and KS"
   ]
  },
  {
   "cell_type": "markdown",
   "metadata": {},
   "source": [
    "`Scikit-learn`, `pandas` or `statsmodels` do not have a specific function to calculate GINI and KS, so below is a function developed by [Manoel Gadi Fernando Alonso](https://www.linkedin.com/in/manoel-gadi-97821213/) and [Marang Mutloatse](https://github.com/maz2198). There are simpler implemenation of the metrics that can be found Github, but for this notebook, these functions will suffice."
   ]
  },
  {
   "cell_type": "code",
   "execution_count": 21,
   "metadata": {},
   "outputs": [],
   "source": [
    "\n",
    "\n",
    "def calculate_gini_score(a,b):\n",
    "    \"\"\"Function that receives two parameters; first: \n",
    "    a binary variable representing 0=good and 1=bad, and then a second variable with the prediction of the first variable, \n",
    "    the second variable can be continuous, integer or binary - continuous is better. Finally, the function returns the \n",
    "    GINI Coefficient of the two lists.\"\"\"    \n",
    "    gini = 2*roc_auc_score(a,b)-1\n",
    "    return gini\n",
    "\n",
    "def calculate_KS(b,a):  \n",
    "    \"\"\"Function that received two parameters; first: a binary variable representing 0=good and 1=bad, and then a second \n",
    "    variable with the prediction of the first variable, the second variable can be continuous, integer or binary - \n",
    "    continuous is better. Finally, the function returns the KS Statistics of the two lists.\"\"\"\n",
    "    try:\n",
    "        tot_bads=1.0*sum(b)\n",
    "        tot_goods=1.0*(len(b)-tot_bads)\n",
    "        elements = zip(*[a,b])\n",
    "        elements = sorted(elements,key= lambda x: x[0])\n",
    "        elements_df = pd.DataFrame({'probability': b,'gbi': a})\n",
    "        pivot_elements_df = pd.pivot_table(elements_df, values='probability', index=['gbi'], aggfunc=[sum,len]).fillna(0)\n",
    "        max_ks = perc_goods = perc_bads = cum_perc_bads = cum_perc_goods = 0\n",
    "        for i in range(len(pivot_elements_df)):\n",
    "            perc_goods =  (pivot_elements_df.iloc[i]['len'] - pivot_elements_df.iloc[i]['sum']) / tot_goods\n",
    "            perc_bads = pivot_elements_df.iloc[i]['sum']/ tot_bads\n",
    "            cum_perc_goods += perc_goods\n",
    "            cum_perc_bads += perc_bads\n",
    "            A = cum_perc_bads-cum_perc_goods\n",
    "            if abs(A['probability']) > max_ks:\n",
    "                max_ks = abs(A['probability'])\n",
    "    except:\n",
    "        max_ks = 0\n",
    "    return max_ks"
   ]
  },
  {
   "cell_type": "markdown",
   "metadata": {},
   "source": [
    "### GINI for train and test samples\n",
    "\n",
    "Now let's calculate the KS statistic.\n",
    "\n",
    "[[ go back to the top ]](#Table-of-contents)"
   ]
  },
  {
   "cell_type": "code",
   "execution_count": 22,
   "metadata": {},
   "outputs": [
    {
     "name": "stdout",
     "output_type": "stream",
     "text": [
      "GINI Score TRAIN: 0.7339339044545414\n",
      "GINI Score TEST: 0.7257933099007177\n"
     ]
    }
   ],
   "source": [
    "print(\"GINI Score TRAIN: {0}\".format(calculate_gini_score(y_train, pred_train_proba)))\n",
    "print(\"GINI Score TEST: {0}\".format(calculate_gini_score(y_test, pred_test_proba)))"
   ]
  },
  {
   "cell_type": "markdown",
   "metadata": {},
   "source": [
    "### KS for train and test samples\n",
    "\n",
    "Now let's calculate the KS statistic.\n",
    "\n",
    "[[ go back to the top ]](#Table-of-contents)"
   ]
  },
  {
   "cell_type": "code",
   "execution_count": 23,
   "metadata": {},
   "outputs": [
    {
     "name": "stdout",
     "output_type": "stream",
     "text": [
      "KS Score TRAIN: 0.585001967055448\n",
      "KS Score TEST: 0.597569412566989\n"
     ]
    }
   ],
   "source": [
    "print(\"KS Score TRAIN: {0}\".format(calculate_KS(y_train, pred_train_proba)))\n",
    "print(\"KS Score TEST: {0}\".format(calculate_KS(y_test, pred_test_proba)))"
   ]
  },
  {
   "cell_type": "markdown",
   "metadata": {},
   "source": [
    "Where to from now? Tune in to the next lecture..."
   ]
  },
  {
   "cell_type": "markdown",
   "metadata": {},
   "source": [
    "# Conclusion\n",
    "\n",
    "[[ go back to the top ]](#Table-of-contents)\n",
    "\n",
    "- Summarizes classification model evaluation metric\n",
    "- Outline basic conepts of credit card fraud detection\n",
    "- Implement GINI and KS"
   ]
  },
  {
   "cell_type": "markdown",
   "metadata": {},
   "source": [
    "## Homework Exercises\n",
    "\n",
    "1. Using the same dataset and the code above, generate the classification report of the model using [scikit-learn's classfication report module](https://scikit-learn.org/stable/modules/generated/sklearn.metrics.classification_report.html). What insights can you gain?\n",
    "2. Do this for a Random Forest Classifier and SVM. "
   ]
  },
  {
   "cell_type": "markdown",
   "metadata": {},
   "source": [
    "# Further Reading\n",
    "\n",
    "[[ go back to the top ]](#Table-of-contents)\n",
    "\n",
    "Below are some links to additional literature for those interested in expanding their knowledge into the field. \n"
   ]
  },
  {
   "cell_type": "markdown",
   "metadata": {},
   "source": [
    "**Credit Card Fraud Detection:**\n",
    "- [Credit Card Fraud Detection Modelling](https://www.ime.usp.br/~mgadi/paper_CreditCardFraudDetectionWithArtificialImmuneSystem_ICARIS08.pdf)\n",
    "- [Credit Card Fraud Detection Hyperparameter Optimization](https://www.ime.usp.br/~mgadi/paper_ComparisonwithParametricOptimizationinCreditCardFraudDetection_ICMLA08.pdf)\n",
    "- [Cost-Sensitve Classification in Fraud Prevention](https://medium.com/mercadolibre-datablog/cost-sensitive-classification-in-fraud-prevention-263170d8fcfe)\n",
    "\n",
    "**Sampling techniques for Imbalanced Classification:**\n",
    "- [Tour of Data Sampling Methods for Imbalanced Classification](https://machinelearningmastery.com/data-sampling-methods-for-imbalanced-classification/)\n",
    "- [How to Deal with Imbalanced Data](https://towardsdatascience.com/how-to-deal-with-imbalanced-data-34ab7db9b100)\n",
    "\n",
    "**GINI and KS**\n",
    "- [Gini to evaluate perfomrance of credit scoring models](https://towardsdatascience.com/using-the-gini-coefficient-to-evaluate-the-performance-of-credit-score-models-59fe13ef420)\n",
    "- [How to determine the best model](https://towardsdatascience.com/how-to-determine-the-best-model-6b9c584d0db4)"
   ]
  },
  {
   "cell_type": "markdown",
   "metadata": {},
   "source": [
    "# Advanced Optional Exercises\n",
    "\n",
    "[[ go back to the top ]](#Table-of-contents)"
   ]
  },
  {
   "cell_type": "markdown",
   "metadata": {},
   "source": [
    "1. Knowing what we know about `GINI` and `KS`, what would be the appropriate metric (**f1**, **accuracy**, **mcc** etc.) to use when performing cross validation? If possible, use several different classification models (Random Forest, Logit and Decision Tree) and [plot_comparisons](https://scikit-learn.org/stable/auto_examples/model_selection/plot_learning_curve.html). **Here is some code and few examples on plotting the [roc-auc curve](https://scikit-learn.org/stable/auto_examples/model_selection/plot_roc.html).**\n",
    "\n",
    "2. How/Is, the use of `GINI` and `KS` effective in multiclass classification problems? **Note: Focus on a specific industry and use case, this will ease answering this question**"
   ]
  },
  {
   "cell_type": "markdown",
   "metadata": {},
   "source": [
    "**Disclaimer**: If any code in the notebook is unclear ordoes not work, do not hesitate to contact through my email."
   ]
  }
 ],
 "metadata": {
  "kernelspec": {
   "display_name": "Python 3",
   "language": "python",
   "name": "python3"
  },
  "language_info": {
   "codemirror_mode": {
    "name": "ipython",
    "version": 3
   },
   "file_extension": ".py",
   "mimetype": "text/x-python",
   "name": "python",
   "nbconvert_exporter": "python",
   "pygments_lexer": "ipython3",
   "version": "3.7.6"
  },
  "latex_envs": {
   "LaTeX_envs_menu_present": true,
   "autoclose": false,
   "autocomplete": true,
   "bibliofile": "biblio.bib",
   "cite_by": "apalike",
   "current_citInitial": 1,
   "eqLabelWithNumbers": true,
   "eqNumInitial": 1,
   "hotkeys": {
    "equation": "Ctrl-E",
    "itemize": "Ctrl-I"
   },
   "labels_anchors": false,
   "latex_user_defs": false,
   "report_style_numbering": false,
   "user_envs_cfg": false
  },
  "toc": {
   "base_numbering": 1,
   "nav_menu": {},
   "number_sections": true,
   "sideBar": true,
   "skip_h1_title": false,
   "title_cell": "Table of Contents",
   "title_sidebar": "Contents",
   "toc_cell": true,
   "toc_position": {},
   "toc_section_display": true,
   "toc_window_display": true
  }
 },
 "nbformat": 4,
 "nbformat_minor": 4
}
